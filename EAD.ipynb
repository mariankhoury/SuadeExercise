{
 "cells": [
  {
   "cell_type": "markdown",
   "metadata": {},
   "source": [
    "# Measuring Exposure at Default\n"
   ]
  },
  {
   "cell_type": "markdown",
   "metadata": {},
   "source": [
    "**Import the libraries that will be used**"
   ]
  },
  {
   "cell_type": "code",
   "execution_count": null,
   "metadata": {},
   "outputs": [],
   "source": [
    "import urllib.request as request\n",
    "import json\n",
    "from jsonschema import validate\n",
    "import jsonschema\n",
    "import pandas as pd\n",
    "import numpy as np"
   ]
  },
  {
   "cell_type": "markdown",
   "metadata": {},
   "source": [
    "Use json.loads to convert both the sample data and schema into JSON object"
   ]
  },
  {
   "cell_type": "code",
   "execution_count": null,
   "metadata": {},
   "outputs": [],
   "source": [
    "schema_path = request.urlopen(\"https://raw.githubusercontent.com/SuadeLabs/fire/master/v1-dev/derivative.json\").read()\n",
    "schema = json.loads(schema_path)\n",
    "print (schema)"
   ]
  },
  {
   "cell_type": "code",
   "execution_count": null,
   "metadata": {},
   "outputs": [],
   "source": [
    "file_path = request.urlopen(\"https://raw.githubusercontent.com/mariankhoury/SuadeExercise/main/Data.json\").read()\n",
    "data = json.loads(file_path)\n",
    "print (data)"
   ]
  },
  {
   "cell_type": "markdown",
   "metadata": {},
   "source": [
    "Use validate method is run to validate the data and that the data matches the schema"
   ]
  },
  {
   "cell_type": "code",
   "execution_count": null,
   "metadata": {},
   "outputs": [],
   "source": [
    "def validate(data):\n",
    "    for item in data['data']:\n",
    "        try:\n",
    "            jsonschema.validate(item, schema)\n",
    "        except Exception as e:\n",
    "            raise e"
   ]
  },
  {
   "cell_type": "code",
   "execution_count": null,
   "metadata": {},
   "outputs": [],
   "source": [
    "validate(data)"
   ]
  },
  {
   "cell_type": "markdown",
   "metadata": {},
   "source": [
    "Convert the sample data to a dataframe using pandas library"
   ]
  },
  {
   "cell_type": "code",
   "execution_count": null,
   "metadata": {},
   "outputs": [],
   "source": [
    "df = pd.DataFrame(data['data'])"
   ]
  },
  {
   "cell_type": "markdown",
   "metadata": {},
   "source": [
    "**To calculate the adjusted notional:**"
   ]
  },
  {
   "cell_type": "markdown",
   "metadata": {},
   "source": [
    "First, use pandas to parse contract dates into datetime objects"
   ]
  },
  {
   "cell_type": "code",
   "execution_count": null,
   "metadata": {},
   "outputs": [],
   "source": [
    "start = pd.to_datetime(df['start_date'].values)\n",
    "end = pd.to_datetime(df['end_date'].values)\n",
    "current = pd.to_datetime(df['date'].values)"
   ]
  },
  {
   "cell_type": "markdown",
   "metadata": {},
   "source": [
    "Calculate both S and E and add their columns to the dataframe "
   ]
  },
  {
   "cell_type": "code",
   "execution_count": null,
   "metadata": {},
   "outputs": [],
   "source": [
    "df['E'] = (end - start).days / 365"
   ]
  },
  {
   "cell_type": "code",
   "execution_count": null,
   "metadata": {},
   "outputs": [],
   "source": [
    "S = (start-current).days/365\n",
    "df['S'] = np.where(\n",
    "    S >0, S, np.where(\n",
    "    S <  0, 0,-1)) \n",
    "#where argument in order to return 0 for any negative numbers"
   ]
  },
  {
   "cell_type": "markdown",
   "metadata": {},
   "source": [
    "To calculate the **adjusted notional**, calculate the **supervisory duration** first, then multiply by the notional amount. The supervisory duration calculation is referncing **paragraph 157** of http://www.bis.org/publ/bcbs279.pdf"
   ]
  },
  {
   "cell_type": "code",
   "execution_count": null,
   "metadata": {},
   "outputs": [],
   "source": [
    "sup_duration = (np.exp(-0.05 * df['S']) - np.exp(-0.05 * df['E'])) / 0.05"
   ]
  },
  {
   "cell_type": "markdown",
   "metadata": {},
   "source": [
    "**Adjusted notional** calculating references **paragraph 157** of http://www.bis.org/publ/bcbs279.pdf"
   ]
  },
  {
   "cell_type": "code",
   "execution_count": null,
   "metadata": {},
   "outputs": [],
   "source": [
    "df['adj_notional']= (df['notional_amount'] * sup_duration).values\n",
    "#add the adjusted notional to the dataframe"
   ]
  },
  {
   "cell_type": "markdown",
   "metadata": {},
   "source": [
    "Calculate **replacement cost** as outlined in **paragraph 136** of http://www.bis.org/publ/bcbs279.pdf"
   ]
  },
  {
   "cell_type": "code",
   "execution_count": null,
   "metadata": {},
   "outputs": [],
   "source": [
    "def replacement_cost():\n",
    "    replacement_cost = np.sum(df['mtm_dirty'].values)\n",
    "    return max(replacement_cost, 0)"
   ]
  },
  {
   "cell_type": "code",
   "execution_count": null,
   "metadata": {},
   "outputs": [],
   "source": [
    "derivatives_values = np.sum(df['mtm_dirty'].values)"
   ]
  },
  {
   "cell_type": "markdown",
   "metadata": {},
   "source": [
    "Calculate the **supervisory delta adjustments** as in **paragraph 159** of http://www.bis.org/publ/bcbs279.pdf"
   ]
  },
  {
   "cell_type": "code",
   "execution_count": null,
   "metadata": {},
   "outputs": [],
   "source": [
    "def floating_fixed(x):\n",
    "    if x == 'fixed':\n",
    "        return -1\n",
    "    else:\n",
    "        return 1  "
   ]
  },
  {
   "cell_type": "code",
   "execution_count": null,
   "metadata": {},
   "outputs": [],
   "source": [
    "df['supervisory_delta']= df['receive_type'].apply(lambda x: floating_fixed(x)).values"
   ]
  },
  {
   "cell_type": "markdown",
   "metadata": {},
   "source": [
    "Calculate the **maturity factor** by first calculating the **maturities of the derivatives**, as outlined below. This is referenced in **paragraph 164** of http://www.bis.org/publ/bcbs279.pdf"
   ]
  },
  {
   "cell_type": "code",
   "execution_count": null,
   "metadata": {},
   "outputs": [],
   "source": [
    "def swap_maturity():\n",
    "    end =pd.to_datetime(df['end_date'].values)\n",
    "    current = pd.to_datetime(df['date'].values)\n",
    "    swap_maturity = (end - current).days/365\n",
    "    return swap_maturity.values"
   ]
  },
  {
   "cell_type": "code",
   "execution_count": null,
   "metadata": {},
   "outputs": [],
   "source": [
    "swap_maturity = swap_maturity()"
   ]
  },
  {
   "cell_type": "code",
   "execution_count": null,
   "metadata": {},
   "outputs": [],
   "source": [
    "def maturity_factor():\n",
    "    mf = list(map(lambda x: min(x,1), swap_maturity))\n",
    "    return np.sqrt(mf) "
   ]
  },
  {
   "cell_type": "markdown",
   "metadata": {},
   "source": [
    "The **effective notional** is calculated based on the derived parameters and is then added to the dataframe, referencing **paragraph 167** of http://www.bis.org/publ/bcbs279.pdf"
   ]
  },
  {
   "cell_type": "code",
   "execution_count": null,
   "metadata": {},
   "outputs": [],
   "source": [
    "df['effective_notional']= df['adj_notional'] * df['supervisory_delta'] * maturity_factor()\n"
   ]
  },
  {
   "cell_type": "markdown",
   "metadata": {},
   "source": [
    "The **Add-on** is calculated below, according to **paragraphs 166-169** of http://www.bis.org/publ/bcbs279.pdf"
   ]
  },
  {
   "cell_type": "code",
   "execution_count": null,
   "metadata": {},
   "outputs": [],
   "source": [
    "def addon():\n",
    "    addon = np.sum(0.005*df['effective_notional'])\n",
    "    return addon"
   ]
  },
  {
   "cell_type": "code",
   "execution_count": null,
   "metadata": {},
   "outputs": [],
   "source": [
    "addon = addon()"
   ]
  },
  {
   "cell_type": "markdown",
   "metadata": {},
   "source": [
    "Finally, in order to calculate the **Exposure at Default**, the multiplier is calculated as outlined in **paragraph 148** of http://www.bis.org/publ/bcbs279.pdf"
   ]
  },
  {
   "cell_type": "code",
   "execution_count": null,
   "metadata": {},
   "outputs": [],
   "source": [
    "floor = 0.0\n",
    "derivatives_values= np.sum(df['mtm_dirty'].values)\n",
    "numerator = derivatives_values\n",
    "denominator = 2 * (1 - floor) * addon\n",
    "exponent = np.exp(numerator / denominator)\n"
   ]
  },
  {
   "cell_type": "code",
   "execution_count": null,
   "metadata": {},
   "outputs": [],
   "source": [
    "def multiplier():\n",
    "    multiplier = floor + (1 - floor) * exponent\n",
    "    multiplier = min(1, multiplier)\n",
    "    return multiplier"
   ]
  },
  {
   "cell_type": "code",
   "execution_count": null,
   "metadata": {},
   "outputs": [],
   "source": [
    "multiplier = multiplier()"
   ]
  },
  {
   "cell_type": "markdown",
   "metadata": {},
   "source": [
    "Now, we have all the variables to calculate the **Exposure at Default** as outlined in **paragraph 128** of http://www.bis.org/publ/bcbs279.pdf. The calculation is:"
   ]
  },
  {
   "cell_type": "code",
   "execution_count": null,
   "metadata": {},
   "outputs": [],
   "source": [
    "rc = replacement_cost()\n",
    "alpha = 1.4\n",
    "exposure_at_default = alpha * (rc + (multiplier * addon))"
   ]
  },
  {
   "cell_type": "code",
   "execution_count": null,
   "metadata": {},
   "outputs": [],
   "source": [
    "exposure_at_default"
   ]
  }
 ],
 "metadata": {
  "kernelspec": {
   "display_name": "Python 3",
   "language": "python",
   "name": "python3"
  },
  "language_info": {
   "codemirror_mode": {
    "name": "ipython",
    "version": 3
   },
   "file_extension": ".py",
   "mimetype": "text/x-python",
   "name": "python",
   "nbconvert_exporter": "python",
   "pygments_lexer": "ipython3",
   "version": "3.7.6"
  }
 },
 "nbformat": 4,
 "nbformat_minor": 4
}
