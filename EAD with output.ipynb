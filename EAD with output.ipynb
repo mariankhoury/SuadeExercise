{
 "cells": [
  {
   "cell_type": "markdown",
   "metadata": {},
   "source": [
    "# Measuring Exposure at Default\n"
   ]
  },
  {
   "cell_type": "markdown",
   "metadata": {},
   "source": [
    "**Import the libraries that will be used**"
   ]
  },
  {
   "cell_type": "code",
   "execution_count": 1,
   "metadata": {},
   "outputs": [],
   "source": [
    "import urllib.request as request\n",
    "import json\n",
    "from jsonschema import validate\n",
    "import jsonschema\n",
    "import pandas as pd\n",
    "import numpy as np"
   ]
  },
  {
   "cell_type": "markdown",
   "metadata": {},
   "source": [
    "Use json.loads to convert both the sample data and schema into JSON object"
   ]
  },
  {
   "cell_type": "code",
   "execution_count": 2,
   "metadata": {},
   "outputs": [
    {
     "name": "stdout",
     "output_type": "stream",
     "text": [
      "{'$schema': 'http://json-schema.org/draft-04/schema#', 'title': 'Derivative Schema', 'description': 'A derivative is a contract which derives its value from an underlying reference index, security or asset.', 'type': 'object', 'properties': {'id': {'description': 'The unique identifier for the derivative within the financial institution.', 'type': 'string'}, 'date': {'description': 'The observation or effective date for the data in this object. Formatted as YYYY-MM-DDTHH:MM:SSZ in accordance with ISO 8601.', 'type': 'string', 'format': 'date-time'}, 'deal_id': {'description': 'The unique identifier used by the financial institution for the deal to which this derivative belongs.', 'type': 'string'}, 'accounting_treatment': {'$ref': 'https://raw.githubusercontent.com/SuadeLabs/fire/master/v1-dev/common.json#/accounting_treatment'}, 'accrued_interest': {'description': 'The accrued interest since the last payment date and due at the next payment date. Monetary type represented as a naturally positive integer number of cents/pence.', 'type': 'integer', 'monetary': True}, 'asset_class': {'$ref': 'https://raw.githubusercontent.com/SuadeLabs/fire/master/v1-dev/common.json#/asset_class'}, 'asset_liability': {'$ref': 'https://raw.githubusercontent.com/SuadeLabs/fire/master/v1-dev/common.json#/asset_liability'}, 'balance': {'description': 'Outstanding amount including accrued interest. Monetary type represented as a naturally positive integer number of cents/pence.', 'type': 'integer', 'monetary': True}, 'base_rate': {'description': 'The base rate represents the basis of the rate on the balance at the given date as agreed in the terms of the financial product.', 'type': 'string', 'enum': ['ZERO', 'UKBRBASE', 'FDTR']}, 'break_dates': {'description': 'Dates where this contract can be broken (by either party). Formatted as YYYY-MM-DDTHH:MM:SSZ in accordance with ISO 8601.', 'type': 'array', 'minItems': 1, 'items': {'type': 'string', 'format': 'date-time'}}, 'call_dates': {'description': 'Dates where this contract can be called (by the customer). Formatted as YYYY-MM-DDTHH:MM:SSZ in accordance with ISO 8601.', 'type': 'array', 'minItems': 1, 'items': {'type': 'string', 'format': 'date-time'}}, 'cost_center_code': {'description': 'The organizational unit or sub-unit to which costs/profits are booked.', 'type': 'string'}, 'csa_id': {'description': 'The unique identifier of the credit support annex for this derivative', 'type': 'string'}, 'currency_code': {'description': 'Actual currency of the underlying reference index, security or asset for the derivative in accordance with ISO 4217 standards. It should be consistent with balance, accrued_interest, guarantee_amount and other monetary amounts.', '$ref': 'https://raw.githubusercontent.com/SuadeLabs/fire/master/v1-dev/common.json#/currency_code'}, 'customer_id': {'description': 'The unique identifier used by the financial institution to identify the customer for this product.', 'type': 'string'}, 'delta': {'description': 'Price sensitivity to the underlying.', 'type': 'number'}, 'end_date': {'description': 'YYYY-MM-DDTHH:MM:SSZ in accordance with ISO 8601', 'type': 'string', 'format': 'date-time'}, 'fvh_level': {'description': 'Fair value hierarchy category according to IFRS 13.93 (b)', 'type': 'integer', 'minimum': 1, 'maximum': 3}, 'first_payment_date': {'description': 'The first payment date for interest payments.', 'type': 'string', 'format': 'date-time'}, 'gamma': {'description': 'Second-order price sensitivity to the underlying or rate of change of the delta.', 'type': 'number'}, 'impairment_amount': {'description': 'The impairment amount for a security is the allowance set aside by the firm for losses.', 'type': 'integer', 'minimum': 0, 'monetary': True}, 'impairment_status': {'$ref': 'https://raw.githubusercontent.com/SuadeLabs/fire/master/v1-dev/common.json#/impairment_status'}, 'implied_vol': {'description': 'Options: implied volatility used to compute mtm and greeks.', 'type': 'number'}, 'initial_margin': {'description': 'Upfront margin posted/received for the trade. Monetary type as integer number of cents.', 'type': 'integer', 'monetary': True}, 'insolvency_rank': {'description': 'The insolvency ranking as per the national legal framework of the reporting institution.', 'type': 'integer', 'minimum': 1}, 'last_exercise_date': {'description': 'The last date on which an option can be exercised. For European options, it is the option exercise date', 'type': 'string', 'format': 'date-time'}, 'last_payment_date': {'description': 'The final payment date for interest payments, often coincides with end_date.', 'type': 'string', 'format': 'date-time'}, 'ledger_code': {'description': 'The internal ledger code or line item name.', 'type': 'string'}, 'leg_type': {'description': 'Describe the payoff type of the derivative leg.', 'type': 'string', 'enum': ['fixed', 'floating', 'indexed', 'call', 'put']}, 'mic_code': {'$ref': 'https://raw.githubusercontent.com/SuadeLabs/fire/master/v1-dev/common.json#/mic_code'}, 'mna_id': {'description': 'The unique identifier of the Master Netting Agreement for this derivative', 'type': 'string'}, 'mtm_clean': {'description': 'The mark-to-market value of the derivative excluding interest. Monetary type represented as a naturally positive integer number of cents/pence.', 'type': 'integer', 'monetary': True}, 'mtm_dirty': {'description': 'The mark-to-market value of the derivative including interest. Monetary type represented as a naturally positive integer number of cents/pence.', 'type': 'integer', 'monetary': True}, 'next_exercise_date': {'description': 'The next date at which the option can be exercised.', 'type': 'string', 'format': 'date-time'}, 'next_payment_amount': {'description': 'The amount that will need to be paid at the next_payment_date. Monetary type represented as a naturally positive integer number of cents/pence.', 'type': 'integer', 'monetary': True}, 'next_payment_date': {'description': 'The next date at which interest will be paid or accrued_interest balance returned to zero.', 'type': 'string', 'format': 'date-time'}, 'next_receive_amount': {'description': 'The amount that is expected to be received at the next_receive_date. Monetary type represented as a naturally positive integer number of cents/pence.', 'type': 'integer', 'monetary': True}, 'next_receive_date': {'description': 'The next date at which interest will be received or accrued_interest balance returned to zero.', 'type': 'string', 'format': 'date-time'}, 'next_reset_date': {'description': 'The date on which the periodic payment term and conditions of a contract agreement are reset/re-established.', 'type': 'string', 'format': 'date-time'}, 'notional_amount': {'description': \"The notional value is the total value with regard to a derivative's underlying index, security or asset at its spot price in accordance with the specifications (i.e. leverage) of the derivative product. Monetary type represented as a naturally positive integer number of cents/pence.\", 'type': 'integer', 'monetary': True}, 'on_balance_sheet': {'description': 'Is the derivative reported on the balance sheet of the financial institution?', 'type': 'boolean'}, 'prev_payment_date': {'description': 'The most recent previous date at which interest was paid or accrued_interest balance returned to zero.', 'type': 'string', 'format': 'date-time'}, 'position': {'description': 'Specifies the market position, i.e. long or short, of the derivative leg', 'type': 'string', 'enum': ['long', 'short']}, 'product_name': {'description': 'The name of the product as given by the financial institution to be used for display and reference purposes.', 'type': 'string'}, 'purpose': {'description': 'The purpose for which the derivative is being held.', 'type': 'string', 'enum': ['reference', 'cva_hedge', 'back_to_back']}, 'rate': {'description': 'The full interest rate applied to the derivative notional in percentage terms. Note that this therefore includes the base_rate (ie. not the spread).', 'type': 'number'}, 'regulatory_book': {'$ref': 'https://raw.githubusercontent.com/SuadeLabs/fire/master/v1-dev/common.json#/regulatory_book'}, 'reporting_entity_name': {'description': 'The name of the reporting legal entity for display purposes.', 'type': 'string'}, 'reporting_id': {'description': 'The internal ID for the legal entity under which the account is being reported.', 'type': 'string'}, 'rho': {'description': 'Price sensitivity to interest rates.', 'type': 'number'}, 'country_code': {'description': 'Two-letter country code for derivative location/jurisdiction. In accordance with ISO 3166-1.', '$ref': 'https://raw.githubusercontent.com/SuadeLabs/fire/master/v1-dev/common.json#/country_code'}, 'risk_country_code': {'description': 'Two-letter country code describing where the risk for the derivative product resides. In accordance with ISO 3166-1', '$ref': 'https://raw.githubusercontent.com/SuadeLabs/fire/master/v1-dev/common.json#/country_code'}, 'settlement_type': {'description': 'The type of settlement for the contract.', 'type': 'string', 'enum': ['cash', 'physical']}, 'source': {'description': 'The source(s) where this data originated. If more than one source needs to be stored for data lineage, it should be separated by a dash. eg. Source1-Source2', 'type': 'string'}, 'start_date': {'description': 'Contract effective or commencement date; security issue date. Format YYYY-MM-DDTHH:MM:SSZ in accordance with ISO 8601.', 'type': 'string', 'format': 'date-time'}, 'theta': {'description': 'Price sensitivity with respect to time.', 'type': 'number'}, 'type': {'description': 'This is the type of the derivative with regards to common regulatory classifications.', 'type': 'string', 'enum': ['vanilla_swap', 'mtm_swap', 'option', 'swaption', 'future', 'forward', 'xccy', 'cds', 'ois', 'spot', 'ndf', 'nds', 'fra', 'cap_floor', 'ccds', 'variance_swap']}, 'trade_date': {'description': 'The timestamp that the trade or financial product terms are agreed. YYYY-MM-DDTHH:MM:SSZ in accordance with ISO 8601.', 'type': 'string', 'format': 'date-time'}, 'underlying_currency_code': {'description': 'Currency of the underlying which should be in line with ISO 4217 standards.', '$ref': 'https://raw.githubusercontent.com/SuadeLabs/fire/master/v1-dev/common.json#/currency_code'}, 'underlying_derivative_id': {'description': 'The unique identifier used by the financial institution to identify the underlying reference derivative for this derivative.', 'type': 'string'}, 'underlying_index': {'description': 'The name of a derivative contract underlying which can be used for all derivative asset classes (e.g. interest rate index, credit index, equity index', 'type': 'string'}, 'underlying_index_tenor': {'description': 'The designated maturity of the underlying interest rate index used in the underlying_index property for interest rate derivatives', 'type': 'string', 'enum': ['1d', '7d', '28d', '91d', '182d', '1m', '2m', '3m', '4m', '5m', '6m', '7m', '8m', '9m', '12m']}, 'underlying_issuer_id': {'description': 'The unique identifier used by the financial institution to identify the underlying reference issuer for this derivative.', 'type': 'string'}, 'underlying_security_id': {'description': 'The unique identifier used by the financial institution to identify the underlying reference security for this derivative.', 'type': 'string'}, 'underlying_quantity': {'description': 'Number of underlying units related to the underlying_price', 'type': 'number'}, 'underlying_price': {'description': 'Current price/value of the underlying.', 'type': 'number'}, 'underlying_strike': {'description': 'Strike price of the option, which is compared to the underlying price on the option exercise date.', 'type': 'number'}, 'strike': {'description': 'Strike price of the option, which is compared to the underlying price on the option exercise date.', 'type': 'number'}, 'value_date': {'description': 'The timestamp that the derivative was valued. YYYY-MM-DDTHH:MM:SSZ in accordance with ISO 8601.', 'type': 'string', 'format': 'date-time'}, 'vega': {'description': 'Price sensitivity to volatility.', 'type': 'number'}, 'version_id': {'description': \"The version identifier of the data such as the firm's internal batch identifier.\", 'type': 'string'}}, 'required': ['id', 'date'], 'additionalProperties': True}\n"
     ]
    }
   ],
   "source": [
    "schema_path = request.urlopen(\"https://raw.githubusercontent.com/SuadeLabs/fire/master/v1-dev/derivative.json\").read()\n",
    "schema = json.loads(schema_path)\n",
    "print (schema)"
   ]
  },
  {
   "cell_type": "code",
   "execution_count": 3,
   "metadata": {},
   "outputs": [
    {
     "name": "stdout",
     "output_type": "stream",
     "text": [
      "{'name': 'Derivatives Data', 'date': '2017-01-17T00:00:00Z', 'data': [{'id': 'swap_1', 'date': '2017-01-17T00:00:00Z', 'asset_class': 'ir', 'currency_code': 'USD', 'end_date': '2019-01-17T00:00:00Z', 'mtm_dirty': -1500, 'notional_amount': 10000, 'payment_type': 'fixed', 'receive_type': 'floating', 'start_date': '2017-01-10T00:00:00Z', 'type': 'vanilla_swap', 'trade_date': '2017-01-10T00:00:00Z', 'value_date': '2017-01-16T00:00:00Z'}, {'id': 'swap_2', 'date': '2017-01-17T00:00:00Z', 'asset_class': 'ir', 'currency_code': 'GBP', 'end_date': '2019-01-17T00:00:00Z', 'mtm_dirty': 1400, 'notional_amount': 10500, 'payment_type': 'floating', 'receive_type': 'floating', 'start_date': '2017-01-10T00:00:00Z', 'type': 'vanilla_swap', 'trade_date': '2017-01-10T00:00:00Z', 'value_date': '2017-01-16T00:00:00Z'}]}\n"
     ]
    }
   ],
   "source": [
    "file_path = request.urlopen(\"https://raw.githubusercontent.com/mariankhoury/SuadeExercise/main/Data.json\").read()\n",
    "data = json.loads(file_path)\n",
    "print (data)"
   ]
  },
  {
   "cell_type": "markdown",
   "metadata": {},
   "source": [
    "Use validate method is run to validate the data and that the data matches the schema"
   ]
  },
  {
   "cell_type": "code",
   "execution_count": 4,
   "metadata": {},
   "outputs": [],
   "source": [
    "def validate(data):\n",
    "    for item in data['data']:\n",
    "        try:\n",
    "            jsonschema.validate(item, schema)\n",
    "        except Exception as e:\n",
    "            raise e"
   ]
  },
  {
   "cell_type": "code",
   "execution_count": 5,
   "metadata": {},
   "outputs": [],
   "source": [
    "validate(data)"
   ]
  },
  {
   "cell_type": "markdown",
   "metadata": {},
   "source": [
    "Convert the sample data to a dataframe using pandas library"
   ]
  },
  {
   "cell_type": "code",
   "execution_count": 6,
   "metadata": {},
   "outputs": [],
   "source": [
    "df = pd.DataFrame(data['data'])"
   ]
  },
  {
   "cell_type": "code",
   "execution_count": 7,
   "metadata": {},
   "outputs": [
    {
     "data": {
      "text/html": [
       "<div>\n",
       "<style scoped>\n",
       "    .dataframe tbody tr th:only-of-type {\n",
       "        vertical-align: middle;\n",
       "    }\n",
       "\n",
       "    .dataframe tbody tr th {\n",
       "        vertical-align: top;\n",
       "    }\n",
       "\n",
       "    .dataframe thead th {\n",
       "        text-align: right;\n",
       "    }\n",
       "</style>\n",
       "<table border=\"1\" class=\"dataframe\">\n",
       "  <thead>\n",
       "    <tr style=\"text-align: right;\">\n",
       "      <th></th>\n",
       "      <th>id</th>\n",
       "      <th>date</th>\n",
       "      <th>asset_class</th>\n",
       "      <th>currency_code</th>\n",
       "      <th>end_date</th>\n",
       "      <th>mtm_dirty</th>\n",
       "      <th>notional_amount</th>\n",
       "      <th>payment_type</th>\n",
       "      <th>receive_type</th>\n",
       "      <th>start_date</th>\n",
       "      <th>type</th>\n",
       "      <th>trade_date</th>\n",
       "      <th>value_date</th>\n",
       "    </tr>\n",
       "  </thead>\n",
       "  <tbody>\n",
       "    <tr>\n",
       "      <th>0</th>\n",
       "      <td>swap_1</td>\n",
       "      <td>2017-01-17T00:00:00Z</td>\n",
       "      <td>ir</td>\n",
       "      <td>USD</td>\n",
       "      <td>2019-01-17T00:00:00Z</td>\n",
       "      <td>-1500</td>\n",
       "      <td>10000</td>\n",
       "      <td>fixed</td>\n",
       "      <td>floating</td>\n",
       "      <td>2017-01-10T00:00:00Z</td>\n",
       "      <td>vanilla_swap</td>\n",
       "      <td>2017-01-10T00:00:00Z</td>\n",
       "      <td>2017-01-16T00:00:00Z</td>\n",
       "    </tr>\n",
       "    <tr>\n",
       "      <th>1</th>\n",
       "      <td>swap_2</td>\n",
       "      <td>2017-01-17T00:00:00Z</td>\n",
       "      <td>ir</td>\n",
       "      <td>GBP</td>\n",
       "      <td>2019-01-17T00:00:00Z</td>\n",
       "      <td>1400</td>\n",
       "      <td>10500</td>\n",
       "      <td>floating</td>\n",
       "      <td>floating</td>\n",
       "      <td>2017-01-10T00:00:00Z</td>\n",
       "      <td>vanilla_swap</td>\n",
       "      <td>2017-01-10T00:00:00Z</td>\n",
       "      <td>2017-01-16T00:00:00Z</td>\n",
       "    </tr>\n",
       "  </tbody>\n",
       "</table>\n",
       "</div>"
      ],
      "text/plain": [
       "       id                  date asset_class currency_code  \\\n",
       "0  swap_1  2017-01-17T00:00:00Z          ir           USD   \n",
       "1  swap_2  2017-01-17T00:00:00Z          ir           GBP   \n",
       "\n",
       "               end_date  mtm_dirty  notional_amount payment_type receive_type  \\\n",
       "0  2019-01-17T00:00:00Z      -1500            10000        fixed     floating   \n",
       "1  2019-01-17T00:00:00Z       1400            10500     floating     floating   \n",
       "\n",
       "             start_date          type            trade_date  \\\n",
       "0  2017-01-10T00:00:00Z  vanilla_swap  2017-01-10T00:00:00Z   \n",
       "1  2017-01-10T00:00:00Z  vanilla_swap  2017-01-10T00:00:00Z   \n",
       "\n",
       "             value_date  \n",
       "0  2017-01-16T00:00:00Z  \n",
       "1  2017-01-16T00:00:00Z  "
      ]
     },
     "execution_count": 7,
     "metadata": {},
     "output_type": "execute_result"
    }
   ],
   "source": [
    "df"
   ]
  },
  {
   "cell_type": "markdown",
   "metadata": {},
   "source": [
    "**To calculate the adjusted notional:**"
   ]
  },
  {
   "cell_type": "markdown",
   "metadata": {},
   "source": [
    "First, use pandas to parse contract dates into datetime objects"
   ]
  },
  {
   "cell_type": "code",
   "execution_count": 8,
   "metadata": {},
   "outputs": [],
   "source": [
    "start = pd.to_datetime(df['start_date'].values)\n",
    "end = pd.to_datetime(df['end_date'].values)\n",
    "current = pd.to_datetime(df['date'].values)"
   ]
  },
  {
   "cell_type": "markdown",
   "metadata": {},
   "source": [
    "Calculate both S and E and add their columns to the dataframe "
   ]
  },
  {
   "cell_type": "code",
   "execution_count": 9,
   "metadata": {},
   "outputs": [],
   "source": [
    "df['E'] = (end - start).days / 365"
   ]
  },
  {
   "cell_type": "code",
   "execution_count": 10,
   "metadata": {},
   "outputs": [],
   "source": [
    "S = (start-current).days/365\n",
    "df['S'] = np.where(\n",
    "    S >0, S, np.where(\n",
    "    S <  0, 0,-1)) \n",
    "#where argument in order to return 0 for any negative numbers"
   ]
  },
  {
   "cell_type": "markdown",
   "metadata": {},
   "source": [
    "To calculate the **adjusted notional**, calculate the **supervisory duration** first, then multiply by the notional amount. The supervisory duration calculation is referncing **paragraph 157** of http://www.bis.org/publ/bcbs279.pdf"
   ]
  },
  {
   "cell_type": "code",
   "execution_count": 12,
   "metadata": {},
   "outputs": [
    {
     "data": {
      "text/plain": [
       "0    1.920596\n",
       "1    1.920596\n",
       "dtype: float64"
      ]
     },
     "execution_count": 12,
     "metadata": {},
     "output_type": "execute_result"
    }
   ],
   "source": [
    "sup_duration = (np.exp(-0.05 * df['S']) - np.exp(-0.05 * df['E'])) / 0.05\n",
    "sup_duration"
   ]
  },
  {
   "cell_type": "markdown",
   "metadata": {},
   "source": [
    "**Adjusted notional** calculating references **paragraph 157** of http://www.bis.org/publ/bcbs279.pdf"
   ]
  },
  {
   "cell_type": "code",
   "execution_count": 13,
   "metadata": {},
   "outputs": [],
   "source": [
    "df['adj_notional']= (df['notional_amount'] * sup_duration).values\n",
    "#add the adjusted notional to the dataframe"
   ]
  },
  {
   "cell_type": "markdown",
   "metadata": {},
   "source": [
    "Calculate **replacement cost** as outlined in **paragraph 136** of http://www.bis.org/publ/bcbs279.pdf"
   ]
  },
  {
   "cell_type": "code",
   "execution_count": 14,
   "metadata": {},
   "outputs": [],
   "source": [
    "def replacement_cost():\n",
    "    replacement_cost = np.sum(df['mtm_dirty'].values)\n",
    "    return max(replacement_cost, 0)"
   ]
  },
  {
   "cell_type": "code",
   "execution_count": 16,
   "metadata": {},
   "outputs": [
    {
     "data": {
      "text/plain": [
       "0"
      ]
     },
     "execution_count": 16,
     "metadata": {},
     "output_type": "execute_result"
    }
   ],
   "source": [
    "replacement_cost()"
   ]
  },
  {
   "cell_type": "code",
   "execution_count": 15,
   "metadata": {},
   "outputs": [],
   "source": [
    "derivatives_values = np.sum(df['mtm_dirty'].values)"
   ]
  },
  {
   "cell_type": "code",
   "execution_count": 17,
   "metadata": {},
   "outputs": [
    {
     "data": {
      "text/plain": [
       "-100"
      ]
     },
     "execution_count": 17,
     "metadata": {},
     "output_type": "execute_result"
    }
   ],
   "source": [
    "derivatives_values"
   ]
  },
  {
   "cell_type": "markdown",
   "metadata": {},
   "source": [
    "Calculate the **supervisory delta adjustments** as in **paragraph 159** of http://www.bis.org/publ/bcbs279.pdf"
   ]
  },
  {
   "cell_type": "code",
   "execution_count": 18,
   "metadata": {},
   "outputs": [],
   "source": [
    "def floating_fixed(x):\n",
    "    if x == 'fixed':\n",
    "        return -1\n",
    "    else:\n",
    "        return 1  "
   ]
  },
  {
   "cell_type": "code",
   "execution_count": 19,
   "metadata": {},
   "outputs": [],
   "source": [
    "df['supervisory_delta']= df['receive_type'].apply(lambda x: floating_fixed(x)).values"
   ]
  },
  {
   "cell_type": "markdown",
   "metadata": {},
   "source": [
    "Calculate the **maturity factor** by first calculating the **maturities of the derivatives**, as outlined below. This is referenced in **paragraph 164** of http://www.bis.org/publ/bcbs279.pdf"
   ]
  },
  {
   "cell_type": "code",
   "execution_count": 20,
   "metadata": {},
   "outputs": [],
   "source": [
    "def swap_maturity():\n",
    "    end =pd.to_datetime(df['end_date'].values)\n",
    "    current = pd.to_datetime(df['date'].values)\n",
    "    swap_maturity = (end - current).days/365\n",
    "    return swap_maturity.values"
   ]
  },
  {
   "cell_type": "code",
   "execution_count": 21,
   "metadata": {},
   "outputs": [],
   "source": [
    "swap_maturity = swap_maturity()"
   ]
  },
  {
   "cell_type": "code",
   "execution_count": 22,
   "metadata": {},
   "outputs": [],
   "source": [
    "def maturity_factor():\n",
    "    mf = list(map(lambda x: min(x,1), swap_maturity))\n",
    "    return np.sqrt(mf) "
   ]
  },
  {
   "cell_type": "markdown",
   "metadata": {},
   "source": [
    "The **effective notional** is calculated based on the derived parameters and is then added to the dataframe, referencing **paragraph 167** of http://www.bis.org/publ/bcbs279.pdf"
   ]
  },
  {
   "cell_type": "code",
   "execution_count": 23,
   "metadata": {},
   "outputs": [],
   "source": [
    "df['effective_notional']= df['adj_notional'] * df['supervisory_delta'] * maturity_factor()\n"
   ]
  },
  {
   "cell_type": "code",
   "execution_count": 24,
   "metadata": {},
   "outputs": [
    {
     "data": {
      "text/html": [
       "<div>\n",
       "<style scoped>\n",
       "    .dataframe tbody tr th:only-of-type {\n",
       "        vertical-align: middle;\n",
       "    }\n",
       "\n",
       "    .dataframe tbody tr th {\n",
       "        vertical-align: top;\n",
       "    }\n",
       "\n",
       "    .dataframe thead th {\n",
       "        text-align: right;\n",
       "    }\n",
       "</style>\n",
       "<table border=\"1\" class=\"dataframe\">\n",
       "  <thead>\n",
       "    <tr style=\"text-align: right;\">\n",
       "      <th></th>\n",
       "      <th>id</th>\n",
       "      <th>date</th>\n",
       "      <th>asset_class</th>\n",
       "      <th>currency_code</th>\n",
       "      <th>end_date</th>\n",
       "      <th>mtm_dirty</th>\n",
       "      <th>notional_amount</th>\n",
       "      <th>payment_type</th>\n",
       "      <th>receive_type</th>\n",
       "      <th>start_date</th>\n",
       "      <th>type</th>\n",
       "      <th>trade_date</th>\n",
       "      <th>value_date</th>\n",
       "      <th>E</th>\n",
       "      <th>S</th>\n",
       "      <th>adj_notional</th>\n",
       "      <th>supervisory_delta</th>\n",
       "      <th>effective_notional</th>\n",
       "    </tr>\n",
       "  </thead>\n",
       "  <tbody>\n",
       "    <tr>\n",
       "      <th>0</th>\n",
       "      <td>swap_1</td>\n",
       "      <td>2017-01-17T00:00:00Z</td>\n",
       "      <td>ir</td>\n",
       "      <td>USD</td>\n",
       "      <td>2019-01-17T00:00:00Z</td>\n",
       "      <td>-1500</td>\n",
       "      <td>10000</td>\n",
       "      <td>fixed</td>\n",
       "      <td>floating</td>\n",
       "      <td>2017-01-10T00:00:00Z</td>\n",
       "      <td>vanilla_swap</td>\n",
       "      <td>2017-01-10T00:00:00Z</td>\n",
       "      <td>2017-01-16T00:00:00Z</td>\n",
       "      <td>2.019178</td>\n",
       "      <td>0.0</td>\n",
       "      <td>19205.963684</td>\n",
       "      <td>1</td>\n",
       "      <td>19205.963684</td>\n",
       "    </tr>\n",
       "    <tr>\n",
       "      <th>1</th>\n",
       "      <td>swap_2</td>\n",
       "      <td>2017-01-17T00:00:00Z</td>\n",
       "      <td>ir</td>\n",
       "      <td>GBP</td>\n",
       "      <td>2019-01-17T00:00:00Z</td>\n",
       "      <td>1400</td>\n",
       "      <td>10500</td>\n",
       "      <td>floating</td>\n",
       "      <td>floating</td>\n",
       "      <td>2017-01-10T00:00:00Z</td>\n",
       "      <td>vanilla_swap</td>\n",
       "      <td>2017-01-10T00:00:00Z</td>\n",
       "      <td>2017-01-16T00:00:00Z</td>\n",
       "      <td>2.019178</td>\n",
       "      <td>0.0</td>\n",
       "      <td>20166.261868</td>\n",
       "      <td>1</td>\n",
       "      <td>20166.261868</td>\n",
       "    </tr>\n",
       "  </tbody>\n",
       "</table>\n",
       "</div>"
      ],
      "text/plain": [
       "       id                  date asset_class currency_code  \\\n",
       "0  swap_1  2017-01-17T00:00:00Z          ir           USD   \n",
       "1  swap_2  2017-01-17T00:00:00Z          ir           GBP   \n",
       "\n",
       "               end_date  mtm_dirty  notional_amount payment_type receive_type  \\\n",
       "0  2019-01-17T00:00:00Z      -1500            10000        fixed     floating   \n",
       "1  2019-01-17T00:00:00Z       1400            10500     floating     floating   \n",
       "\n",
       "             start_date          type            trade_date  \\\n",
       "0  2017-01-10T00:00:00Z  vanilla_swap  2017-01-10T00:00:00Z   \n",
       "1  2017-01-10T00:00:00Z  vanilla_swap  2017-01-10T00:00:00Z   \n",
       "\n",
       "             value_date         E    S  adj_notional  supervisory_delta  \\\n",
       "0  2017-01-16T00:00:00Z  2.019178  0.0  19205.963684                  1   \n",
       "1  2017-01-16T00:00:00Z  2.019178  0.0  20166.261868                  1   \n",
       "\n",
       "   effective_notional  \n",
       "0        19205.963684  \n",
       "1        20166.261868  "
      ]
     },
     "execution_count": 24,
     "metadata": {},
     "output_type": "execute_result"
    }
   ],
   "source": [
    "df"
   ]
  },
  {
   "cell_type": "markdown",
   "metadata": {},
   "source": [
    "The **Add-on** is calculated below, according to **paragraphs 166-169** of http://www.bis.org/publ/bcbs279.pdf"
   ]
  },
  {
   "cell_type": "code",
   "execution_count": 25,
   "metadata": {},
   "outputs": [],
   "source": [
    "def addon():\n",
    "    addon = np.sum(0.005*df['effective_notional'])\n",
    "    return addon"
   ]
  },
  {
   "cell_type": "code",
   "execution_count": 26,
   "metadata": {},
   "outputs": [
    {
     "data": {
      "text/plain": [
       "196.86112775680456"
      ]
     },
     "execution_count": 26,
     "metadata": {},
     "output_type": "execute_result"
    }
   ],
   "source": [
    "addon()"
   ]
  },
  {
   "cell_type": "code",
   "execution_count": 27,
   "metadata": {},
   "outputs": [],
   "source": [
    "addon = addon()"
   ]
  },
  {
   "cell_type": "markdown",
   "metadata": {},
   "source": [
    "Finally, in order to calculate the **Exposure at Default**, the multiplier is calculated as outlined in **paragraph 148** of http://www.bis.org/publ/bcbs279.pdf"
   ]
  },
  {
   "cell_type": "code",
   "execution_count": 28,
   "metadata": {},
   "outputs": [],
   "source": [
    "floor = 0.0\n",
    "derivatives_values= np.sum(df['mtm_dirty'].values)\n",
    "numerator = derivatives_values\n",
    "denominator = 2 * (1 - floor) * addon\n",
    "exponent = np.exp(numerator / denominator)\n"
   ]
  },
  {
   "cell_type": "code",
   "execution_count": 29,
   "metadata": {},
   "outputs": [],
   "source": [
    "def multiplier():\n",
    "    multiplier = floor + (1 - floor) * exponent\n",
    "    multiplier = min(1, multiplier)\n",
    "    return multiplier"
   ]
  },
  {
   "cell_type": "code",
   "execution_count": 30,
   "metadata": {},
   "outputs": [
    {
     "data": {
      "text/plain": [
       "0.7757025451513244"
      ]
     },
     "execution_count": 30,
     "metadata": {},
     "output_type": "execute_result"
    }
   ],
   "source": [
    "multiplier()"
   ]
  },
  {
   "cell_type": "code",
   "execution_count": 31,
   "metadata": {},
   "outputs": [],
   "source": [
    "multiplier = multiplier()"
   ]
  },
  {
   "cell_type": "markdown",
   "metadata": {},
   "source": [
    "Now, we have all the variables to calculate the **Exposure at Default** as outlined in **paragraph 128** of http://www.bis.org/publ/bcbs279.pdf. The calculation is:"
   ]
  },
  {
   "cell_type": "code",
   "execution_count": 32,
   "metadata": {},
   "outputs": [],
   "source": [
    "rc = replacement_cost()\n",
    "alpha = 1.4\n",
    "exposure_at_default = alpha * (rc + (multiplier * addon))"
   ]
  },
  {
   "cell_type": "code",
   "execution_count": 33,
   "metadata": {},
   "outputs": [
    {
     "data": {
      "text/plain": [
       "213.78794897923868"
      ]
     },
     "execution_count": 33,
     "metadata": {},
     "output_type": "execute_result"
    }
   ],
   "source": [
    "exposure_at_default"
   ]
  },
  {
   "cell_type": "code",
   "execution_count": null,
   "metadata": {},
   "outputs": [],
   "source": []
  }
 ],
 "metadata": {
  "kernelspec": {
   "display_name": "Python 3",
   "language": "python",
   "name": "python3"
  },
  "language_info": {
   "codemirror_mode": {
    "name": "ipython",
    "version": 3
   },
   "file_extension": ".py",
   "mimetype": "text/x-python",
   "name": "python",
   "nbconvert_exporter": "python",
   "pygments_lexer": "ipython3",
   "version": "3.7.6"
  }
 },
 "nbformat": 4,
 "nbformat_minor": 4
}
